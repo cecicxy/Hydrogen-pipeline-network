{
 "cells": [
  {
   "cell_type": "code",
   "execution_count": 2,
   "metadata": {},
   "outputs": [],
   "source": [
    "import cv2 as cv\n",
    "import numpy as np\n",
    "import pandas as pd\n",
    "import matplotlib.pyplot as plt\n",
    "import geopandas as gpd\n",
    "import os\n",
    "import sys"
   ]
  },
  {
   "cell_type": "code",
   "execution_count": 3,
   "metadata": {},
   "outputs": [
    {
     "ename": "",
     "evalue": "",
     "output_type": "error",
     "traceback": [
      "\u001b[1;31mThe Kernel crashed while executing code in the the current cell or a previous cell. Please review the code in the cell(s) to identify a possible cause of the failure. Click <a href='https://aka.ms/vscodeJupyterKernelCrash'>here</a> for more info. View Jupyter <a href='command:jupyter.viewOutput'>log</a> for further details."
     ]
    }
   ],
   "source": [
    "img = cv.imread(\"../data/MED/jpg/Topographic Map.JPG\")\n",
    "if img is None:\n",
    " sys.exit(\"Could not read the image.\")\n",
    "cv.imshow(\"Display window\", img)\n",
    "\n"
   ]
  },
  {
   "cell_type": "markdown",
   "metadata": {},
   "source": [
    "### 将元素灰度与费用成比例。（0，255）"
   ]
  },
  {
   "cell_type": "code",
   "execution_count": 1,
   "metadata": {},
   "outputs": [
    {
     "ename": "SyntaxError",
     "evalue": "invalid character '（' (U+FF08) (1368187611.py, line 1)",
     "output_type": "error",
     "traceback": [
      "\u001b[1;36m  Cell \u001b[1;32mIn[1], line 1\u001b[1;36m\u001b[0m\n\u001b[1;33m    PIPL:管线（线），输电线、通信线、 油气水输送主管道等 100 #646464\u001b[0m\n\u001b[1;37m           ^\u001b[0m\n\u001b[1;31mSyntaxError\u001b[0m\u001b[1;31m:\u001b[0m invalid character '（' (U+FF08)\n"
     ]
    }
   ],
   "source": [
    "RESA:居民地（面），街区、高层建筑区、空地等  50 #323232\n",
    "HYDA:水系（面），湖泊、水库、双线的河流和沟渠等 50 \n",
    "LRRL:铁路，标准轨铁路、窄轨铁路、 地铁、轻轨等 50\n",
    "BRGA:区域界线（面），自然文化区、特殊地区、 开发区、保税区   50\n",
    "\n",
    "PIPL:管线（线），输电线、通信线、 油气水输送主管道等 100  #646464\n",
    "HYDL:水系（线），单线的河流、沟渠、河流结构线等 100\n",
    "TERA:地貌与土质（面），沙地、冰雪地、 地质灾害地貌等  100\n",
    "RFCA:设施（面），工矿、农业、公共服务等 100\n",
    "\n",
    "\n",
    "LRDL:公路，国道、省道、县道、乡道、专用公路、其它公路、街道、乡村道路等 200   #c8c8c8\n",
    "VEGA:植被（面），耕地、园地、林地、草地、城市绿地等  200\n",
    "\n",
    "\n",
    "CPTL:坐标网格\n",
    "BOUL:行政境界（线），各级境界线 \n",
    "\n",
    "穿跨越成本：河流，公路，铁路，《遥感与 GIS 在油气管道线路 选择中的应用研究》"
   ]
  }
 ],
 "metadata": {
  "kernelspec": {
   "display_name": "geopy",
   "language": "python",
   "name": "python3"
  },
  "language_info": {
   "codemirror_mode": {
    "name": "ipython",
    "version": 3
   },
   "file_extension": ".py",
   "mimetype": "text/x-python",
   "name": "python",
   "nbconvert_exporter": "python",
   "pygments_lexer": "ipython3",
   "version": "3.10.12"
  },
  "orig_nbformat": 4
 },
 "nbformat": 4,
 "nbformat_minor": 2
}
